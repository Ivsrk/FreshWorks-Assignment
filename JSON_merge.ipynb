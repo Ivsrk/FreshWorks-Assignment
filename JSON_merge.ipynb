{
  "nbformat": 4,
  "nbformat_minor": 0,
  "metadata": {
    "colab": {
      "name": "JSON_merge.ipynb",
      "provenance": [],
      "include_colab_link": true
    },
    "kernelspec": {
      "name": "python3",
      "display_name": "Python 3"
    }
  },
  "cells": [
    {
      "cell_type": "markdown",
      "metadata": {
        "id": "view-in-github",
        "colab_type": "text"
      },
      "source": [
        "<a href=\"https://colab.research.google.com/github/Ivsrk/FreshWorks-Assignment/blob/master/JSON_merge.ipynb\" target=\"_parent\"><img src=\"https://colab.research.google.com/assets/colab-badge.svg\" alt=\"Open In Colab\"/></a>"
      ]
    },
    {
      "cell_type": "code",
      "metadata": {
        "id": "0XyBK4y_wtK6",
        "colab_type": "code",
        "colab": {
          "base_uri": "https://localhost:8080/",
          "height": 34
        },
        "outputId": "74b09444-a83a-48eb-c172-1821f67486a3"
      },
      "source": [
        "import json\n",
        "from pprint import pprint\n",
        "import os, json\n",
        "import pandas as pd\n",
        "\n",
        "path_to_json = \"/content/Freshworks\"\n",
        "json_files = [pos_json for pos_json in os.listdir(path_to_json) if pos_json.endswith('.json')]\n",
        "print(json_files) \n"
      ],
      "execution_count": 2,
      "outputs": [
        {
          "output_type": "stream",
          "text": [
            "['data1.json', 'data2.json', 'data3.json']\n"
          ],
          "name": "stdout"
        }
      ]
    },
    {
      "cell_type": "code",
      "metadata": {
        "id": "laJy-xVgxPAN",
        "colab_type": "code",
        "colab": {
          "base_uri": "https://localhost:8080/",
          "height": 316
        },
        "outputId": "67d1d774-d367-4936-f274-e66f4a42fba5"
      },
      "source": [
        "for i in json_files:\n",
        "  with open('/content/Freshworks/'+i) as json_file:\n",
        "    print(\"Content in:\", i)\n",
        "    pprint(json.load(json_file))\n",
        "    print(\"\\n\\n\")"
      ],
      "execution_count": 9,
      "outputs": [
        {
          "output_type": "stream",
          "text": [
            "Content in: data1.json\n",
            "{'strikers': [{'club': 'Manchester United', 'name': 'Alexis Sanchez'},\n",
            "              {'club': 'Feyenoord', 'name': 'Robin van Persie'}]}\n",
            "\n",
            "\n",
            "\n",
            "Content in: data2.json\n",
            "{'strikers': [{'club': 'Arsenal', 'name': 'Nicolas Pepe'}]}\n",
            "\n",
            "\n",
            "\n",
            "Content in: data3.json\n",
            "{'strikers': [{'club': 'Napoli', 'name': 'Gonzalo Higuain'},\n",
            "              {'club': 'Bengaluru FC', 'name': 'Sunil Chettri'}]}\n",
            "\n",
            "\n",
            "\n"
          ],
          "name": "stdout"
        }
      ]
    },
    {
      "cell_type": "code",
      "metadata": {
        "id": "GqIhFj-zxH4W",
        "colab_type": "code",
        "colab": {
          "base_uri": "https://localhost:8080/",
          "height": 105
        },
        "outputId": "e7471cef-c210-4975-fc2c-582056f971c7"
      },
      "source": [
        "data = {}\n",
        "for i in json_files:\n",
        "  with open('/content/Freshworks/'+i) as json_file:\n",
        "    #print(i)\n",
        "    dataobj=json.load(json_file)\n",
        "    for j in dataobj.keys():\n",
        "      #print(\"j:\",j)\n",
        "      if j not in data:\n",
        "        data[j]=[]\n",
        "      data[j].extend(dataobj[j])\n",
        "    \n",
        "    \n",
        "with open('data.json', 'w') as outfile:\n",
        "    json.dump(data, outfile)\n",
        "with open('data.json') as json_file:\n",
        "  pprint(json.load(json_file))"
      ],
      "execution_count": 10,
      "outputs": [
        {
          "output_type": "stream",
          "text": [
            "{'strikers': [{'club': 'Manchester United', 'name': 'Alexis Sanchez'},\n",
            "              {'club': 'Feyenoord', 'name': 'Robin van Persie'},\n",
            "              {'club': 'Arsenal', 'name': 'Nicolas Pepe'},\n",
            "              {'club': 'Napoli', 'name': 'Gonzalo Higuain'},\n",
            "              {'club': 'Bengaluru FC', 'name': 'Sunil Chettri'}]}\n"
          ],
          "name": "stdout"
        }
      ]
    },
    {
      "cell_type": "code",
      "metadata": {
        "id": "X-pPEsYfxMnr",
        "colab_type": "code",
        "colab": {}
      },
      "source": [
        ""
      ],
      "execution_count": 0,
      "outputs": []
    }
  ]
}